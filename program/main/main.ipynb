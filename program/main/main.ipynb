{
 "metadata": {
  "language_info": {
   "codemirror_mode": {
    "name": "ipython",
    "version": 3
   },
   "file_extension": ".py",
   "mimetype": "text/x-python",
   "name": "python",
   "nbconvert_exporter": "python",
   "pygments_lexer": "ipython3",
   "version": "3.7.7-final"
  },
  "orig_nbformat": 2,
  "kernelspec": {
   "name": "python3",
   "display_name": "Python 3",
   "language": "python"
  }
 },
 "nbformat": 4,
 "nbformat_minor": 2,
 "cells": [
  {
   "cell_type": "code",
   "execution_count": 1,
   "metadata": {},
   "outputs": [
    {
     "output_type": "stream",
     "name": "stdout",
     "text": [
      "env: PYTHONPATH=d:\\PROJECTS\\Python\\Deidentification-of-medical-data\n"
     ]
    }
   ],
   "source": [
    "from pathlib import Path\n",
    "\n",
    "ROOT_PATH = Path.cwd().parent.parent\n",
    "\n",
    "RAW_TRAIN_DATA_PATH = \"dataset/raw_data/train.txt\"\n",
    "RAW_TEST_DATA_PATH = \"dataset/raw_data/test.txt\"\n",
    "\n",
    "TRAIN_DATA_PATH = \"dataset/ner_data/train.data\"\n",
    "TEST_DATA_PATH = \"dataset/ner_data/test.data\"\n",
    "\n",
    "TRAIN_GRAINED_DATA_PATH = \"dataset/ner_data/train_grained.data\"\n",
    "TEST_GRAINED_DATA_PATH = \"dataset/ner_data/test_grained.data\"\n",
    "\n",
    "MODEL = [\n",
    "    \"CRF\",\n",
    "    \"BILSTM_CRF\",\n",
    "    \"BERT_CRF\",\n",
    "    \"BERT_BILSTM_CRF\"\n",
    "]\n",
    "\n",
    "MODEL_SELECT = 3\n",
    "\n",
    "%set_env PYTHONPATH=$ROOT_PATH"
   ]
  },
  {
   "cell_type": "code",
   "execution_count": 2,
   "metadata": {},
   "outputs": [
    {
     "output_type": "stream",
     "name": "stdout",
     "text": [
      "Split train data generated.\nSplit test data generated.\n"
     ]
    }
   ],
   "source": [
    "# Generate train, test NER format Data\n",
    "\n",
    "!python data_generator.py \\\n",
    "            --RAW_TRAIN_DATA_PATH=$ROOT_PATH/$TRAIN_DATA_PATH \\\n",
    "            --RAW_TEST_DATA_PATH=$ROOT_PATH/$TEST_DATA_PATH \\\n",
    "            --TRAIN_DATA_PATH=$ROOT_PATH/$TRAIN_GRAINED_DATA_PATH \\\n",
    "            --TEST_DATA_PATH=$ROOT_PATH/$TEST_GRAINED_DATA_PATH \\\n",
    "            --OUTPUT_TYPE=split\n"
   ]
  },
  {
   "source": [
    "# Preprocess and generate trainable datasets\n",
    "\n",
    "!python data_preprocessor.py \\\n",
    "            --TRAIN_DATA_PATH=$ROOT_PATH/$TRAIN_GRAINED_DATA_PATH \\\n",
    "            --TEST_DATA_PATH=$ROOT_PATH/$TEST_GRAINED_DATA_PATH \\\n",
    "            --RAW_TEST_DATA_PATH=$ROOT_PATH/$RAW_TEST_DATA_PATH \\\n",
    "            --MODEL_DATA_PATH=$ROOT_PATH/model/{MODEL[MODEL_SELECT]}/data/\n"
   ],
   "cell_type": "code",
   "metadata": {},
   "execution_count": 3,
   "outputs": [
    {
     "output_type": "stream",
     "name": "stdout",
     "text": [
      "Train text data & labels array saved\nTest text data and mapping array saved\n"
     ]
    }
   ]
  },
  {
   "cell_type": "code",
   "execution_count": 4,
   "metadata": {},
   "outputs": [
    {
     "output_type": "stream",
     "name": "stderr",
     "text": [
      "2020-12-28 16:13:15.864527: I tensorflow/stream_executor/platform/default/dso_loader.cc:49] Successfully opened dynamic library cudart64_110.dll\n2020-12-28 16:13:26.910097: I tensorflow/compiler/jit/xla_cpu_device.cc:41] Not creating XLA devices, tf_xla_enable_xla_devices not set\n2020-12-28 16:13:26.917688: I tensorflow/stream_executor/platform/default/dso_loader.cc:49] Successfully opened dynamic library nvcuda.dll\n2020-12-28 16:13:26.988559: I tensorflow/core/common_runtime/gpu/gpu_device.cc:1720] Found device 0 with properties: \npciBusID: 0000:06:00.0 name: GeForce RTX 2060 computeCapability: 7.5\ncoreClock: 1.68GHz coreCount: 30 deviceMemorySize: 6.00GiB deviceMemoryBandwidth: 312.97GiB/s\n2020-12-28 16:13:26.989275: I tensorflow/stream_executor/platform/default/dso_loader.cc:49] Successfully opened dynamic library cudart64_110.dll\n2020-12-28 16:13:27.626970: I tensorflow/stream_executor/platform/default/dso_loader.cc:49] Successfully opened dynamic library cublas64_11.dll\n2020-12-28 16:13:27.627131: I tensorflow/stream_executor/platform/default/dso_loader.cc:49] Successfully opened dynamic library cublasLt64_11.dll\n2020-12-28 16:13:28.053363: I tensorflow/stream_executor/platform/default/dso_loader.cc:49] Successfully opened dynamic library cufft64_10.dll\n2020-12-28 16:13:28.097296: I tensorflow/stream_executor/platform/default/dso_loader.cc:49] Successfully opened dynamic library curand64_10.dll\n2020-12-28 16:13:28.470663: I tensorflow/stream_executor/platform/default/dso_loader.cc:49] Successfully opened dynamic library cusolver64_10.dll\n2020-12-28 16:13:28.750836: I tensorflow/stream_executor/platform/default/dso_loader.cc:49] Successfully opened dynamic library cusparse64_11.dll\n2020-12-28 16:13:28.776555: I tensorflow/stream_executor/platform/default/dso_loader.cc:49] Successfully opened dynamic library cudnn64_8.dll\n2020-12-28 16:13:28.778248: I tensorflow/core/common_runtime/gpu/gpu_device.cc:1862] Adding visible gpu devices: 0\nTraceback (most recent call last):\n  File \"ner_trainer.py\", line 97, in <module>\n    app.run(main)\n  File \"C:\\Users\\Jay\\AppData\\Local\\Programs\\Python\\Python37\\lib\\site-packages\\absl\\app.py\", line 300, in run\n    _run_main(main, args)\n  File \"C:\\Users\\Jay\\AppData\\Local\\Programs\\Python\\Python37\\lib\\site-packages\\absl\\app.py\", line 251, in _run_main\n    sys.exit(main(argv))\n  File \"ner_trainer.py\", line 89, in main\n    \"BERT_BILSTM_CRF\": buildBertBilstmCrfTrainer(),\n  File \"ner_trainer.py\", line 74, in buildBertBilstmCrfTrainer\n    FLAGS.VISUALIZE,\nTypeError: Can't instantiate abstract class BertBilstmCrfTrainer with abstract methods visualize\n"
     ]
    }
   ],
   "source": [
    "# Tokenize and training process, use the dataset pickled from data_preprocessor\n",
    "\n",
    "!python ner_trainer.py \\\n",
    "            --MODEL={MODEL[MODEL_SELECT]} \\\n",
    "            --TRAIN_DATA_PATH=$ROOT_PATH/$TRAIN_GRAINED_DATA_PATH \\\n",
    "            --MODEL_DATA_PATH=$ROOT_PATH/model/{MODEL[MODEL_SELECT]}/data/ \\\n",
    "            --CHECKPOINT_PATH=$ROOT_PATH/model/{MODEL[MODEL_SELECT]}/checkpoint/ \\\n",
    "            --CHECKPOINT_KEEP=3 \\\n",
    "            --SENTENCE_MAX_LENGTH=32 \\\n",
    "            --BATCH_SIZE=64 \\\n",
    "            --EMBEDDING_SIZE=300 \\\n",
    "            --HIIDEN_NUMS=512 \\\n",
    "            --EPOCHS=1 \\\n",
    "            --LEARNING_RATE=1e-3\n"
   ]
  },
  {
   "cell_type": "code",
   "execution_count": null,
   "metadata": {},
   "outputs": [],
   "source": [
    "# Predicting process and export the results, use the model generated from training checkpoints \n",
    "\n",
    "!python ner_predictor.py \\\n",
    "            --\n"
   ]
  }
 ]
}