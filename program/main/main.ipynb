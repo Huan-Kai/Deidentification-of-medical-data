{
 "metadata": {
  "language_info": {
   "codemirror_mode": {
    "name": "ipython",
    "version": 3
   },
   "file_extension": ".py",
   "mimetype": "text/x-python",
   "name": "python",
   "nbconvert_exporter": "python",
   "pygments_lexer": "ipython3",
   "version": "3.7.7-final"
  },
  "orig_nbformat": 2,
  "kernelspec": {
   "name": "python3",
   "display_name": "Python 3",
   "language": "python"
  }
 },
 "nbformat": 4,
 "nbformat_minor": 2,
 "cells": [
  {
   "cell_type": "code",
   "execution_count": 81,
   "metadata": {},
   "outputs": [
    {
     "output_type": "stream",
     "name": "stdout",
     "text": [
      "env: PYTHONPATH=d:\\PROJECTS\\Python\\Deidentification-of-medical-data\n"
     ]
    }
   ],
   "source": [
    "from pathlib import Path\n",
    "\n",
    "ROOT_PATH = Path.cwd().parent.parent\n",
    "\n",
    "RAW_TRAIN_DATA_PATH = \"dataset/raw_data/train.txt\"\n",
    "RAW_TEST_DATA_PATH = \"dataset/raw_data/test.txt\"\n",
    "\n",
    "TRAIN_DATA_PATH = \"dataset/ner_data/train.data\"\n",
    "TEST_DATA_PATH = \"dataset/ner_data/test.data\"\n",
    "\n",
    "TRAIN_GRAINED_DATA_PATH = \"dataset/ner_data/train_grained.data\"\n",
    "TEST_GRAINED_DATA_PATH = \"dataset/ner_data/test_grained.data\"\n",
    "\n",
    "%set_env PYTHONPATH=$ROOT_PATH"
   ]
  },
  {
   "cell_type": "code",
   "execution_count": 83,
   "metadata": {},
   "outputs": [
    {
     "output_type": "stream",
     "name": "stdout",
     "text": [
      "Split train data generated.\nSplit test data generated.\n"
     ]
    }
   ],
   "source": [
    "# Generate train, test NER format Data\n",
    "\n",
    "!python data_generator.py \\\n",
    "            --RAW_TRAIN_DATA_PATH=$ROOT_PATH/$TRAIN_DATA_PATH \\\n",
    "            --RAW_TEST_DATA_PATH=$ROOT_PATH/$TEST_DATA_PATH \\\n",
    "            --TRAIN_DATA_PATH=$ROOT_PATH/$TRAIN_GRAINED_DATA_PATH \\\n",
    "            --TEST_DATA_PATH=$ROOT_PATH/$TEST_GRAINED_DATA_PATH \\\n",
    "            --OUTPUT_TYPE=split\n"
   ]
  },
  {
   "source": [
    "# Preprocess and generate trainable datasets\n",
    "\n",
    "!python data_preprocessor.py \\\n",
    "            --\n"
   ],
   "cell_type": "code",
   "metadata": {},
   "execution_count": 16,
   "outputs": []
  },
  {
   "cell_type": "code",
   "execution_count": null,
   "metadata": {},
   "outputs": [],
   "source": [
    "# Training process\n",
    "\n",
    "!python ner_trainer.py \\\n",
    "            --"
   ]
  },
  {
   "cell_type": "code",
   "execution_count": null,
   "metadata": {},
   "outputs": [],
   "source": [
    "# Predicting process\n",
    "\n",
    "!python ner_predictor.py \\\n",
    "            --\n"
   ]
  },
  {
   "cell_type": "code",
   "execution_count": null,
   "metadata": {},
   "outputs": [],
   "source": [
    "# Sort out the results in correct upload format and export\n",
    "\n",
    "!python result_exporter.py \\\n",
    "            --"
   ]
  },
  {
   "cell_type": "code",
   "execution_count": 18,
   "metadata": {},
   "outputs": [
    {
     "output_type": "stream",
     "name": "stdout",
     "text": [
      "Run with epochs: 32  lr: 1e-05\n",
      "Run with epochs: 32  lr: 3e-05\n",
      "Run with epochs: 32  lr: 5e-05\n",
      "Run with epochs: 64  lr: 1e-05\n",
      "Run with epochs: 64  lr: 3e-05\n",
      "Run with epochs: 64  lr: 5e-05\n",
      "Run with epochs: 128  lr: 1e-05\n",
      "Run with epochs: 128  lr: 3e-05\n",
      "Run with epochs: 128  lr: 5e-05\n"
     ]
    }
   ],
   "source": [
    "# \n",
    "epochs = [32, 64, 128]\n",
    "lrs = [1e-5, 3e-5, 5e-5]\n",
    "\n",
    "for epoch in epochs:\n",
    "    for lr in lrs:\n",
    "        !python test.py \\\n",
    "                --EPOCH $epoch \\\n",
    "                --LR $lr"
   ]
  }
 ]
}